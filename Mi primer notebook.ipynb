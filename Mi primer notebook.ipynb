{
 "cells": [
  {
   "cell_type": "markdown",
   "metadata": {},
   "source": [
    "# Mi primer notebook\n",
    "## Mi primera sección\n",
    "\n",
    "esta es mi primera experiencia usando ``Jupyter`` y ``Python``\n",
    "\n",
    "bajkdnsjbadscdasfds\n",
    "\n",
    "dsgfsdgdfssdfgfs\n",
    "\n",
    "dfghfdghdfhggfhgf\n",
    "\n",
    "fggfdgdfghfhfdghghfg\n",
    "\n",
    "#### Una subsubsección\n",
    "lista no numerada\n",
    "\n",
    "* primer item\n",
    "* segundo item\n",
    "\n",
    "#### Otra subsubsección\n",
    "\n",
    "listas numeradas\n",
    "\n",
    "1. primer item\n",
    "2. segundo item\n",
    "\n",
    "$$x^2+y^2=1$$\n",
    "\n",
    "```python\n",
    "2**3\n",
    "```"
   ]
  },
  {
   "cell_type": "code",
   "execution_count": 1,
   "metadata": {},
   "outputs": [
    {
     "data": {
      "text/plain": [
       "2"
      ]
     },
     "execution_count": 1,
     "metadata": {},
     "output_type": "execute_result"
    }
   ],
   "source": [
    "1 + 1"
   ]
  },
  {
   "cell_type": "code",
   "execution_count": 2,
   "metadata": {},
   "outputs": [
    {
     "data": {
      "text/plain": [
       "8"
      ]
     },
     "execution_count": 2,
     "metadata": {},
     "output_type": "execute_result"
    }
   ],
   "source": [
    "2**3"
   ]
  },
  {
   "cell_type": "code",
   "execution_count": 3,
   "metadata": {},
   "outputs": [
    {
     "data": {
      "text/plain": [
       "20"
      ]
     },
     "execution_count": 3,
     "metadata": {},
     "output_type": "execute_result"
    }
   ],
   "source": [
    "5*4"
   ]
  },
  {
   "cell_type": "code",
   "execution_count": null,
   "metadata": {},
   "outputs": [],
   "source": []
  }
 ],
 "metadata": {
  "kernelspec": {
   "display_name": "Python 3",
   "language": "python",
   "name": "python3"
  },
  "language_info": {
   "codemirror_mode": {
    "name": "ipython",
    "version": 3
   },
   "file_extension": ".py",
   "mimetype": "text/x-python",
   "name": "python",
   "nbconvert_exporter": "python",
   "pygments_lexer": "ipython3",
   "version": "3.7.3"
  }
 },
 "nbformat": 4,
 "nbformat_minor": 4
}
